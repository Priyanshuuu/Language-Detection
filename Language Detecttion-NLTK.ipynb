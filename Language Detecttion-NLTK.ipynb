{
 "cells": [
  {
   "cell_type": "code",
   "execution_count": 3,
   "metadata": {},
   "outputs": [
    {
     "name": "stdout",
     "output_type": "stream",
     "text": [
      "Write a scentenceer is hier iets mis\n",
      "er is hier iets mis\t Langauge: dutch\n",
      "to do this again enter (y/Y)y\n",
      "Write a scentencesomething is wrong here\n",
      "something is wrong here\t Langauge: english\n",
      "to do this again enter (y/Y)y\n",
      "Write a scentenceयहाँ कुछ गलत है\n",
      "यहाँ कुछ गलत है\t Langauge: nepali\n",
      "to do this again enter (y/Y)y\n",
      "Write a scentenceDa stimmt etwas nicht\n",
      "Da stimmt etwas nicht\t Langauge: german\n",
      "to do this again enter (y/Y)n\n"
     ]
    }
   ],
   "source": [
    "from nltk import *\n",
    "from nltk.corpus import *\n",
    "\n",
    "def lang_ratio(input):\n",
    "    lang_ratio={}\n",
    "    tokens = wordpunct_tokenize(input)\n",
    "    words = [word.lower() for word in tokens]\n",
    "    for language in stopwords.fileids():\n",
    "        stopwords_set = set(stopwords.words(language))\n",
    "        words_set = set(words)\n",
    "        common_elements = words_set.intersection(stopwords_set)\n",
    "        lang_ratio[language] = len(common_elements)\n",
    "    return lang_ratio \n",
    "\n",
    "def detect_language(input):\n",
    "    ratios = lang_ratio(input)\n",
    "    lang = max(ratios, key = ratios.get)\n",
    "    return lang\n",
    "ans = 'Y'\n",
    "while((ans=='y')|(ans=='Y')):\n",
    "    input1 = input(\"Write a scentence\")\n",
    "    lang = detect_language(input1)\n",
    "    print(input1+\"\\t Langauge: \"+ lang)\n",
    "    ans = input(\"to do this again enter (y/Y)\")"
   ]
  }
 ],
 "metadata": {
  "kernelspec": {
   "display_name": "Python 3",
   "language": "python",
   "name": "python3"
  },
  "language_info": {
   "codemirror_mode": {
    "name": "ipython",
    "version": 3
   },
   "file_extension": ".py",
   "mimetype": "text/x-python",
   "name": "python",
   "nbconvert_exporter": "python",
   "pygments_lexer": "ipython3",
   "version": "3.5.6"
  }
 },
 "nbformat": 4,
 "nbformat_minor": 2
}
